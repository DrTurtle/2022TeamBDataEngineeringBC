{
  "cells": [
    {
      "cell_type": "markdown",
      "metadata": {
        "id": "S3wlI7GUW3p-"
      },
      "source": [
        "<a href=\"https://colab.research.google.com/github/Fuenfgeld/2022TeamADataManagementBC/blob/main/Tutorial-Metadaten/Praesentation.ipynb\" target=\"_parent\"><img src=\"https://colab.research.google.com/assets/colab-badge.svg\" alt=\"Open In Colab\"/></a>"
      ]
    },
    {
      "cell_type": "markdown",
      "source": [
        "# AUFGABE 2: \n",
        "ERSTE EXPLORATIVE ANALYSE DES DATENSATZES\n",
        "\n",
        "Schaut euch den nachfolgenden Datensatz an: \n",
        "https://www.kaggle.com/datasets/sulianova/cardiovascular-disease-dataset\n",
        "\n",
        "Versuche nun zunächst die folgenden allgemeinen Fragen zu beantworten:\n",
        "\n",
        "1. Wer besitzt die Daten\n",
        "2. Woher kommen die Daten?\n",
        "3. Zugriffrechte der Daten / Welche Lizenz?\n",
        "4. Wo werden die Daten genutzt/geteilt?\n",
        "5. Benutzung / Verwendung der Daten?\n",
        "6. Wann wurden die Daten erstellt/geändert?\n",
        "7.**bold text** Datum der einzelnen Messungen vorhanden?\n"
      ],
      "metadata": {
        "id": "220aQglaXX_V"
      }
    },
    {
      "cell_type": "markdown",
      "source": [
        "### Platz für deine Lösung:\n",
        "\n",
        "1. \n",
        "2. \n",
        "3. \n",
        "4. \n",
        "5. \n",
        "6. \n",
        "7. "
      ],
      "metadata": {
        "id": "-fNgWdauX6nb"
      }
    },
    {
      "cell_type": "markdown",
      "source": [
        "# AUFGABE 4: \n",
        "WEITERE “VERSTECKTE” METADATEN\n",
        "\n",
        "Es gibt noch weitere Daten, die nicht direkt ersichtlich sind, sich aber aus dem Datensatz generieren lassen. \n",
        "\n",
        "1. Welche Daten könnte man aus den Spalten “Körpergröße” und “Gewicht” ermitteln? \n",
        "\n",
        "2. Führe die nachfolgenden Code-Schritte aus. Berechne anschließend die Daten aus 1. und erweitere anschließend die Tabelle um eine weitere Spalte mit den neu generierten Daten.\n"
      ],
      "metadata": {
        "id": "fVsXuB5rYXdl"
      }
    },
    {
      "cell_type": "markdown",
      "source": [
        "### Deine Lösung:\n",
        "\n",
        "1. "
      ],
      "metadata": {
        "id": "N_2ClRZKY6L8"
      }
    },
    {
      "cell_type": "markdown",
      "source": [
        "### Deine Lösung zu 2.:"
      ],
      "metadata": {
        "id": "-gDPCtFaZD6T"
      }
    },
    {
      "cell_type": "code",
      "execution_count": null,
      "metadata": {
        "pycharm": {
          "name": "#%%\n"
        },
        "id": "C_ukoxxuW3q0"
      },
      "outputs": [],
      "source": [
        "# importieren der notwendigen Libraries\n",
        "import pandas as pd\n",
        "import numpy as np\n",
        "import matplotlib.pyplot as plt"
      ]
    },
    {
      "cell_type": "code",
      "execution_count": null,
      "metadata": {
        "pycharm": {
          "name": "#%%\n"
        },
        "id": "c32Csb2IW3q2"
      },
      "outputs": [],
      "source": [
        "# Datensatz laden\n",
        "df = pd.read_csv(\"./data/new_data.csv\", sep = ',', index_col = 0)"
      ]
    },
    {
      "cell_type": "code",
      "execution_count": null,
      "metadata": {
        "pycharm": {
          "name": "#%%\n"
        },
        "id": "-aNILdBZW3q3",
        "outputId": "c5ff15d4-7e22-48fb-ec6b-063681641b98"
      },
      "outputs": [
        {
          "data": {
            "text/html": [
              "<div>\n",
              "<style scoped>\n",
              "    .dataframe tbody tr th:only-of-type {\n",
              "        vertical-align: middle;\n",
              "    }\n",
              "\n",
              "    .dataframe tbody tr th {\n",
              "        vertical-align: top;\n",
              "    }\n",
              "\n",
              "    .dataframe thead th {\n",
              "        text-align: right;\n",
              "    }\n",
              "</style>\n",
              "<table border=\"1\" class=\"dataframe\">\n",
              "  <thead>\n",
              "    <tr style=\"text-align: right;\">\n",
              "      <th></th>\n",
              "      <th>age</th>\n",
              "      <th>height</th>\n",
              "      <th>weight</th>\n",
              "      <th>ap_hi</th>\n",
              "      <th>ap_lo</th>\n",
              "      <th>smoke</th>\n",
              "      <th>cardio</th>\n",
              "    </tr>\n",
              "    <tr>\n",
              "      <th>id</th>\n",
              "      <th></th>\n",
              "      <th></th>\n",
              "      <th></th>\n",
              "      <th></th>\n",
              "      <th></th>\n",
              "      <th></th>\n",
              "      <th></th>\n",
              "    </tr>\n",
              "  </thead>\n",
              "  <tbody>\n",
              "    <tr>\n",
              "      <th>0</th>\n",
              "      <td>50</td>\n",
              "      <td>168</td>\n",
              "      <td>62.0</td>\n",
              "      <td>110</td>\n",
              "      <td>80</td>\n",
              "      <td>2</td>\n",
              "      <td>5</td>\n",
              "    </tr>\n",
              "    <tr>\n",
              "      <th>1</th>\n",
              "      <td>55</td>\n",
              "      <td>156</td>\n",
              "      <td>85.0</td>\n",
              "      <td>140</td>\n",
              "      <td>90</td>\n",
              "      <td>0</td>\n",
              "      <td>5</td>\n",
              "    </tr>\n",
              "    <tr>\n",
              "      <th>2</th>\n",
              "      <td>51</td>\n",
              "      <td>165</td>\n",
              "      <td>64.0</td>\n",
              "      <td>130</td>\n",
              "      <td>70</td>\n",
              "      <td>1</td>\n",
              "      <td>6</td>\n",
              "    </tr>\n",
              "    <tr>\n",
              "      <th>3</th>\n",
              "      <td>48</td>\n",
              "      <td>169</td>\n",
              "      <td>82.0</td>\n",
              "      <td>150</td>\n",
              "      <td>100</td>\n",
              "      <td>1</td>\n",
              "      <td>0</td>\n",
              "    </tr>\n",
              "    <tr>\n",
              "      <th>4</th>\n",
              "      <td>47</td>\n",
              "      <td>156</td>\n",
              "      <td>56.0</td>\n",
              "      <td>100</td>\n",
              "      <td>60</td>\n",
              "      <td>0</td>\n",
              "      <td>9</td>\n",
              "    </tr>\n",
              "  </tbody>\n",
              "</table>\n",
              "</div>"
            ],
            "text/plain": [
              "    age  height  weight  ap_hi  ap_lo  smoke  cardio\n",
              "id                                                  \n",
              "0    50     168    62.0    110     80      2       5\n",
              "1    55     156    85.0    140     90      0       5\n",
              "2    51     165    64.0    130     70      1       6\n",
              "3    48     169    82.0    150    100      1       0\n",
              "4    47     156    56.0    100     60      0       9"
            ]
          },
          "execution_count": 6,
          "metadata": {},
          "output_type": "execute_result"
        }
      ],
      "source": [
        "# Betrachten der ersten 5 Zeilen des für diesen Kurs angepassten Datensatzes\n",
        "df.head(5)"
      ]
    },
    {
      "cell_type": "code",
      "source": [
        "# Füge hier deine Lösung ein\n",
        "\n",
        "\n",
        "\n"
      ],
      "metadata": {
        "id": "9uJnytlra2yI"
      },
      "execution_count": null,
      "outputs": []
    },
    {
      "cell_type": "markdown",
      "metadata": {
        "id": "32RKUmXAW3q9"
      },
      "source": [
        "# Aufgabe 5\n",
        "DUBLIN CORE\n",
        "\n",
        "Fassen Sie die noch fehlenden \"Core Elemente\" unter der Verwendung der verlinkten Codierung-Standards für den vorgestellten Datensatz zusammen. Zusätzliche Informationen zum Datensatz können [hier](https://github.com/Fuenfgeld/2022TeamADataManagementBC/wiki/3.-Datensatz#zus%C3%A4tzliche-beschreibung) entnommen werden.\n",
        "\n",
        "Beispielhafte Codierung-Standards:\n",
        "- [Thesaurus of Geographic Names (TGN)](http://www.getty.edu/research/tools/vocabularies/tgn/?find=&place=Heidelberg&nation=&prev_page=1&english=Y&popup=P)\n",
        "\n",
        "- [Date and Time Formats](https://www.w3.org/TR/NOTE-datetime)\n",
        "\n",
        "- [Media types](https://www.iana.org/assignments/media-types/media-types.xhtml)\n",
        "\n",
        "- [Codes for the Representation of Names of Languages (ISO 639-2)](https://www.loc.gov/standards/iso639-2/php/code_list.php)\n",
        "\n",
        "- [List of popular Licenses](https://opensource.org/licenses)"
      ]
    },
    {
      "cell_type": "markdown",
      "metadata": {
        "id": "7-a8Q2OhW3q-"
      },
      "source": [
        "### XML-Schme\n",
        "\n",
        "- [Guidlines](https://www.dublincore.org/specifications/dublin-core/dc-xml-guidelines/2003-04-02/) für XML- & RDF- Format\n",
        "- Unterschied **Simple** und **Qulified** Dublin Core"
      ]
    },
    {
      "cell_type": "markdown",
      "metadata": {
        "id": "-LGVH5U_W3q_"
      },
      "source": [
        "#### Simple Dublin Core\n",
        "\n",
        "- Besteht aus einer oder mehreren Eigenschaften und den zugehörigen Werten.\n",
        "- Jede Eigenschaft ist ein Attribut der beschriebenen Ressource.\n",
        "- Jede Eigenschaft muss eines der 15 DCMES [DCMES]-Elemente sein.\n",
        "- Eigenschaften können wiederholt werden.\n",
        "- Jeder Wert ist ein String.\n",
        "- Jeder String-Wert kann eine zugeordnete Sprache haben (z.B. en-GB).\n"
      ]
    },
    {
      "cell_type": "markdown",
      "metadata": {
        "id": "VejF1WJ3W3q_"
      },
      "source": [
        "```xml\n",
        "<?xml version=\"1.0\"?>\n",
        "\n",
        "<metadata\n",
        "  xmlns=\"http://example.org/myapp/\"\n",
        "  xmlns:xsi=\"http://www.w3.org/2001/XMLSchema-instance\"\n",
        "  xsi:schemaLocation=\"http://example.org/myapp/ http://example.org/myapp/schema.xsd\"\n",
        "  xmlns:dc=\"http://purl.org/dc/elements/1.1/\">\n",
        "\n",
        "  <dc:title>\n",
        "    UKOLN\n",
        "  </dc:title>\n",
        "  <dc:description>\n",
        "    UKOLN is a national focus of expertise in digital information\n",
        "    management. It provides policy, research and awareness services\n",
        "    to the UK library, information and cultural heritage communities.\n",
        "    UKOLN is based at the University of Bath.\n",
        "  </dc:description>\n",
        "  <dc:publisher>\n",
        "    UKOLN, University of Bath\n",
        "  </dc:publisher>\n",
        "  <dc:identifier>\n",
        "    http://www.ukoln.ac.uk/\n",
        "  </dc:identifier>\n",
        "\n",
        "</metadata>\n",
        "```"
      ]
    },
    {
      "cell_type": "markdown",
      "metadata": {
        "id": "yLTutn_ZW3rA"
      },
      "source": [
        "#### Qualified Dublin Core\n",
        "\n",
        "\n",
        "- Besteht aus einer oder mehreren Eigenschaften und den zugehörigen Werten. **✓**\n",
        "- Jede Eigenschaft ist ein Attribut der beschriebenen Ressource. **✓**\n",
        "- Jede Eigenschaft muss entweder:\n",
        "    - eines der 15 DC-Elemente, **✓**\n",
        "    - eines der anderen vom DCMI empfohlenen Elemente (z. B. Publikum) [DCTERMS],\n",
        "    - eine der Elementverfeinerungen, die in der Empfehlung der DCMI-Metadatenbedingungen [DCTERMS] aufgeführt sind.\n",
        "- Eigenschaften können wiederholt werden. **✓**\n",
        "- Jeder Wert ist eine String. **✓**\n",
        "- Jeder Wert kann ein zugeordnetes Codierungsschema haben.\n",
        "- Jedes Kodierungsschema hat einen Namen.\n",
        "- Jeder String-Wert kann eine zugeordnete Sprache haben (z. B. en-GB). **✓**\n"
      ]
    },
    {
      "cell_type": "markdown",
      "metadata": {
        "id": "7y7l81w_W3rA"
      },
      "source": [
        "```xml\n",
        "<?xml version=\"1.0\"?>\n",
        "\n",
        "<metadata\n",
        "  xmlns=\"http://example.org/myapp/\"\n",
        "  xmlns:xsi=\"http://www.w3.org/2001/XMLSchema-instance\"\n",
        "  xsi:schemaLocation=\"http://example.org/myapp/ http://example.org/myapp/schema.xsd\"\n",
        "  xmlns:dc=\"http://purl.org/dc/elements/1.1/\"\n",
        "  xmlns:dcterms=\"http://purl.org/dc/terms/\">\n",
        "\n",
        "  <dc:title>\n",
        "    UKOLN\n",
        "  </dc:title>\n",
        "  <dcterms:alternative>\n",
        "    UK Office for Library and Information Networking\n",
        "  </dcterms:alternative>\n",
        "  <dc:subject>\n",
        "    national centre, network information support, library\n",
        "    community, awareness, research, information services,public\n",
        "    library networking, bibliographic management, distributed\n",
        "    library systems, metadata, resource discovery,\n",
        "    conferences,lectures, workshops\n",
        "  </dc:subject>\n",
        "  <dc:subject xsi:type=\"dcterms:DDC\">\n",
        "    062\n",
        "  </dc:subject>\n",
        "  <dc:subject xsi:type=\"dcterms:UDC\">\n",
        "    061(410)\n",
        "  </dc:subject>\n",
        "  <dc:description>\n",
        "    UKOLN is a national focus of expertise in digital information\n",
        "    management. It provides policy, research and awareness services\n",
        "    to the UK library, information and cultural heritage communities.\n",
        "    UKOLN is based at the University of Bath.\n",
        "  </dc:description>\n",
        "  <dc:description xml:lang=\"fr\">\n",
        "    UKOLN est un centre national d'expertise dans la gestion de l'information\n",
        "    digitale.\n",
        "  </dc:description>\n",
        "  <dc:publisher>\n",
        "    UKOLN, University of Bath\n",
        "  </dc:publisher>\n",
        "  <dcterms:isPartOf xsi:type=\"dcterms:URI\">\n",
        "    http://www.bath.ac.uk/\n",
        "  </dcterms:isPartOf>\n",
        "  <dc:identifier xsi:type=\"dcterms:URI\">\n",
        "    http://www.ukoln.ac.uk/\n",
        "  </dc:identifier>\n",
        "  <dcterms:modified xsi:type=\"dcterms:W3CDTF\">\n",
        "    2001-07-18\n",
        "  </dcterms:modified>\n",
        "  <dc:format xsi:type=\"dcterms:IMT\">\n",
        "    text/html\n",
        "  </dc:format>\n",
        "  <dcterms:extent>\n",
        "    14 Kbytes\n",
        "  </dcterms:extent>\n",
        "\n",
        "</metadata>\n",
        "```"
      ]
    },
    {
      "cell_type": "markdown",
      "metadata": {
        "id": "x46QS7CZW3rC"
      },
      "source": [
        "# Semantische Daten"
      ]
    },
    {
      "cell_type": "markdown",
      "metadata": {
        "id": "pJOfPZqbW3rC"
      },
      "source": [
        "*Daten werden für einen menschlichen Benutzer erst durch Interpretation zu Information, und diese Interpretation erfordert sowohl Wissen über die konkrete Anwendung als auch Weltwissen.*"
      ]
    },
    {
      "cell_type": "markdown",
      "metadata": {
        "id": "UHZI_wWxW3rD"
      },
      "source": [
        "*Wir fassen diese Informationen unter dem Begriff Kontext zusammen. Daten erhalten ihre Bedeutung erst durch Berücksichtigung\n",
        "des Kontextes. Dabei ist zu beachten, dass manche Teile des Kontextes unmittelbar in computerlesbarer Form vorliegen, wie das\n",
        "Schema, während andere Teile nicht explizit modelliert wurden\n",
        "und für Programme nicht erreichbar sind, wie das externe Wissen\n",
        "über die Anwendung*"
      ]
    },
    {
      "cell_type": "markdown",
      "metadata": {
        "id": "BrX4ddEAW3rD"
      },
      "source": [
        "*Da eine Menge strukturierter Daten durch die Namen der Strukturelemente beschrieben wird, sind Schemata\n",
        "Metadaten für Instanzen dieses Schemas; Metadaten zu einem Schema wiederum sind das Datenmodell, in dem das\n",
        "Schema erstellt ist*"
      ]
    },
    {
      "cell_type": "markdown",
      "metadata": {
        "id": "FhSPkxFBW3rE"
      },
      "source": [
        "## Was versteht Ihr unter dem Begrifff Semantik? Wie stehen Semantik und Metadaten in Bezug zu einander?\n",
        "\n",
        "Hinweis:  Semantik = Interpretation von\n",
        "Daten\n"
      ]
    },
    {
      "cell_type": "markdown",
      "metadata": {
        "id": "wkfRwQQ8W3rE"
      },
      "source": [
        "Welche Datenfelder weisen keinen semantische Hintegrund auf?\n",
        "\n",
        "Lösung:\n",
        "\n",
        "1.   Smoking\n",
        "2.   Alcohol intake\n",
        "3.   Physical activity\n",
        "\n",
        "\n",
        "\n"
      ]
    },
    {
      "cell_type": "markdown",
      "metadata": {
        "id": "rg4V49fsW3rG"
      },
      "source": [
        "## Semantik und Kodierungssysteme\n",
        "\n",
        "Um medizinischen Begriffen bzw. Zustände zu standardisieren wurden über die Zeit hinweg viele Klassifizierungen, Nomenklaturen und Ontologien aufgebaut, die das Ziel verfolgen einen Standard zu definieren der es ermöglicht eine konsistente, gemeinsame Darstellungen zu verwenden.\n",
        "\n",
        "Bekannte und wichtige Kodierungssysteme/Ontologien/Datenbanken sind:\n",
        "\n",
        "\n",
        "1.   SNOMED (https://www.snomed.org/)\n",
        "2.   LOINC  (https://loinc.org/)\n",
        "3.   ICD10  (https://www.icd-code.de/icd/code/ICD-10-GM.html)\n",
        "\n",
        "\n",
        "\n",
        "\n",
        "\n"
      ]
    },
    {
      "cell_type": "markdown",
      "metadata": {
        "id": "6_b5uTUAW3rG"
      },
      "source": [
        "## LOINC\n",
        "\n",
        "Um einen internationalen Standard zur Festhaltung von Untersuchungs- und Testergebnissen aus Labor und Klinik wurde die 1994 die Datenbank Logical Observation Identifiers Names and Codes (LOINC) erstellt, welche sich etabliert hat.\n",
        "\n",
        "Unter folgenden Link findet Ihr die standardiserte Bezeichnung des \"Blutdrucks\"\n",
        "\n",
        "https://loinc.org/55284-4/\n",
        "\n",
        "Ihr werdet oben rechts darauf hingewiesen, das davon abgeraten wird den systolischen und diastolischen Blutdruck zusammengefasst als ein Schemaelement festzuhalten."
      ]
    },
    {
      "cell_type": "markdown",
      "metadata": {
        "id": "aQx-JVFzW3rG"
      },
      "source": [
        "### Aufgabe\n",
        "\n",
        "Wie lautet die Empfehlung von LOINC? Welche LOINC Codes finden sich jeweils für den systolischen und distolischen Blutdruck?"
      ]
    },
    {
      "cell_type": "markdown",
      "metadata": {
        "id": "SYU9gWsFW3rH"
      },
      "source": [
        "## ICD-10\n",
        "\n",
        "Die International Classification of Diseases 10th Revision (ICD-10) ist ein weltweit anerkanntes System zur Klassifizierung von Diagnosen im medizinischen Umfeld. Hierbei wird nur eine Definition der Krankheit festgehalten."
      ]
    },
    {
      "cell_type": "markdown",
      "metadata": {
        "id": "F_pEnNHwW3rI"
      },
      "source": [
        "### Aufgabe\n",
        "\n",
        "Unter folgendem Link findet Ihr eine Klassifizierung der Krankheiten:\n",
        "\n",
        "https://www.icd-code.de/icd/code/ICD-10-GM.html\n",
        "\n",
        "Herkreislauf-Krankheiten (Cardiovascular Disease) zählen zu Krankheiten des Kreislaufsystems. Versucht einen ICD-10 Code Wertebereich zu finden der allgemein Herzkrankheiten beschreibt. Welche Werteberich findet sich?\n",
        "\n",
        "Der Datensatz beschreibt somit nur allgemein eine Herzkranheit aber nicht genau welche. Welcher ICD-10 Code würde eine Primäre Rechtsherzinsuffizienz beschreiben?"
      ]
    },
    {
      "cell_type": "markdown",
      "metadata": {
        "id": "K5Aa8ES9W3rJ"
      },
      "source": [
        "## Ontologie\n",
        "\n",
        "Ontologien definieren definieren ein Vokabular mit dem alle Konzepte der Anwendung beschrieben werden können sowie deren Beziehungen zueinander. Es lässt sich sagen ,dass eine Ontologie als globales Schema genutzt werden kann.\n",
        "\n"
      ]
    },
    {
      "cell_type": "markdown",
      "metadata": {
        "id": "MrNOTng4W3rK"
      },
      "source": [
        "### Aufgabe\n",
        "\n",
        "Für einen bessere Vorstellung sollt Ihr euch zunächst die SNOMED Ontologie anschauen, welche Ihr unter folgendem Link findet:\n",
        "\n",
        "https://bioportal.bioontology.org/ontologies/SNOMEDCT/?p=classes&conceptid=root\n",
        "\n",
        "Dort  sollt Ihr nach \"Tobacco use and exposure\" suchen.\n",
        "\n",
        "Versucht durch die Basisklasse \"Tobacco use and exposure\" die Subklasse \"Smoker\" zu finden und notiert bitte die ID der Klasse.\n"
      ]
    },
    {
      "cell_type": "markdown",
      "metadata": {
        "id": "eca0wAAZW3rM"
      },
      "source": [
        "Würdet Ihr sagen das \"Smoker\" eine korrekte Klassifizierung darstellt oder könnte man noch das Element noch genauer definieren?\n"
      ]
    },
    {
      "cell_type": "markdown",
      "metadata": {
        "id": "6tWJeA1jW3rM"
      },
      "source": [
        "Wie müsste man in den Daten einen moderaten Raucher feshalten, der am Tag 10-19 Zigaretten raucht?"
      ]
    },
    {
      "cell_type": "markdown",
      "metadata": {
        "id": "kVT6IrNlW3rN"
      },
      "source": [
        "## Zusammenfassung\n",
        "\n",
        "Wir haben gelernt, dass heutzutage Daten aus dem medizinischen Umfeld standardisiert und sehr präzise definiert werden können. Es ist wichtig den semantischen Kontext der Daten so genau wie möglich anzugeben, sodass kein Freiraum für Interpretationen der Daten gelassen werden und der Kontext gegeben ist. Genau an diesem Punkt knüpfen Kodierungssysteme, Ontologien und standardisierte Datenbank an. Sie ermöglichen es den Kontext der Daten klar zu definieren sodass nicht nur Menschen ein genaues Verständnis vermittelt wird sondern auch das maschinell beziehungsweise durch Anwendungen die Daten ausgelesen, interpretiert und ausgewertet werden können."
      ]
    },
    {
      "cell_type": "markdown",
      "metadata": {
        "id": "V4wBkfmdW3rO"
      },
      "source": [
        "Vergleich zwischen Hierarchie vs Ontologie\n",
        "ICD10 --> Hierarchie\n",
        "Onotologie --> Klassenmodell"
      ]
    },
    {
      "cell_type": "markdown",
      "metadata": {
        "id": "FgB63zh-W3rP"
      },
      "source": [
        "# Quiztime\n",
        "\n",
        "![kahoot.png](https://github.com/Fuenfgeld/2022TeamADataManagementBC/blob/main/Tutorial-Metadaten/data/Kahoot.jpg?raw=1)"
      ]
    }
  ],
  "metadata": {
    "kernelspec": {
      "display_name": "Python 3 (ipykernel)",
      "language": "python",
      "name": "python3"
    },
    "language_info": {
      "codemirror_mode": {
        "name": "ipython",
        "version": 3
      },
      "file_extension": ".py",
      "mimetype": "text/x-python",
      "name": "python",
      "nbconvert_exporter": "python",
      "pygments_lexer": "ipython3",
      "version": "3.9.7"
    },
    "colab": {
      "name": "Praesentation.ipynb",
      "provenance": []
    }
  },
  "nbformat": 4,
  "nbformat_minor": 0
}