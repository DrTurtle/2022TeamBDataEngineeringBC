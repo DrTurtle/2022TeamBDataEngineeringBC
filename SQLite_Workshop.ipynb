{
 "cells": [
  {
   "cell_type": "code",
   "execution_count": null,
   "metadata": {
    "id": "h7a6BCkrI3lC"
   },
   "outputs": [],
   "source": [
    "# import libraries\n",
    "import sqlite3\n",
    "from sqlite3 import Error"
   ]
  },
  {
   "cell_type": "code",
   "execution_count": null,
   "metadata": {
    "colab": {
     "base_uri": "https://localhost:8080/"
    },
    "id": "51Emunq_gVrR",
    "outputId": "6ce92108-944c-4ceb-d14c-78b0882ff0bb"
   },
   "outputs": [
    {
     "name": "stdout",
     "output_type": "stream",
     "text": [
      "Drive already mounted at /content/drive; to attempt to forcibly remount, call drive.mount(\"/content/drive\", force_remount=True).\n"
     ]
    }
   ],
   "source": [
    "from google.colab import drive\n",
    "drive.mount('/content/drive')\n",
    "\n"
   ]
  },
  {
   "cell_type": "code",
   "execution_count": null,
   "metadata": {
    "colab": {
     "base_uri": "https://localhost:8080/"
    },
    "id": "5dgmrIH9gnX3",
    "outputId": "db3f541e-65d0-4c05-db06-b3471d4cdaef"
   },
   "outputs": [
    {
     "name": "stdout",
     "output_type": "stream",
     "text": [
      "2.6.0\n"
     ]
    }
   ],
   "source": [
    "def create_connection(db_file):\n",
    "    \"\"\" create a database connection to a SQLite database \"\"\"\n",
    "    conn = None\n",
    "    try:\n",
    "        conn = sqlite3.connect(db_file)\n",
    "        print(sqlite3.version)\n",
    "    except Error as e:\n",
    "        print(e)\n",
    "    finally:\n",
    "        if conn:\n",
    "            conn.close()\n",
    "\n",
    "\n",
    "if __name__ == '__main__':\n",
    "    create_connection(r\"/content/drive/MyDrive/SQLite_DB/pythonsqlite.db\")"
   ]
  },
  {
   "cell_type": "code",
   "execution_count": null,
   "metadata": {
    "colab": {
     "base_uri": "https://localhost:8080/"
    },
    "id": "3GQQbW-qiv7U",
    "outputId": "2f93be6a-a95a-416f-aaf8-26d685cae7aa"
   },
   "outputs": [
    {
     "name": "stdout",
     "output_type": "stream",
     "text": [
      "Table is Ready\n"
     ]
    }
   ],
   "source": [
    "#Connecting to sqlite\n",
    "# connection object\n",
    "connection_obj = sqlite3.connect('pythonsqlite.db')\n",
    "\n",
    "# cursor object\n",
    "cursor_obj = connection_obj.cursor()\n",
    "\n",
    "# Drop the ANIMALS table if already exists.\n",
    "cursor_obj.execute(\"DROP TABLE IF EXISTS ANIMALS\")\n",
    "\n",
    "# Creating table\n",
    "table = \"\"\" CREATE TABLE ANIMALS(\n",
    "      ANIMAL_ID INTEGER PRIMARY KEY,\n",
    "      Name VARCHAR(255) NOT NULL,\n",
    "\t\t\tTyp CHAR(25) NOT NULL,\n",
    "\t\t\tPrädator BOOLEAN NOT NULL,\n",
    "\t\t\tScore INT\n",
    "\n",
    "\t\t); \"\"\"\n",
    "\n",
    "cursor_obj.execute(table)\n",
    "\n",
    "print(\"Table is Ready\")\n",
    "\n",
    "# Close the connection\n",
    "connection_obj.close()\n",
    "\n"
   ]
  },
  {
   "cell_type": "code",
   "execution_count": null,
   "metadata": {
    "colab": {
     "base_uri": "https://localhost:8080/"
    },
    "id": "7zHB12i1lcAY",
    "outputId": "2468d03d-4274-4e89-97ce-4598da2f3cc1"
   },
   "outputs": [
    {
     "name": "stdout",
     "output_type": "stream",
     "text": [
      "Data Inserted in the table: \n",
      "(1, 'BIBER', '7th', 'FALSE', 12)\n",
      "(2, 'Feldhase', '8th', 'FALSE', 34)\n",
      "(3, 'Gelbbauchunke', '9th', 'TRUE', 55)\n"
     ]
    }
   ],
   "source": [
    "# Import module\n",
    "#import sqlite3\n",
    "\n",
    "# Connecting to sqlite\n",
    "conn = sqlite3.connect('pythonsqlite.db')\n",
    "\n",
    "# Creating a cursor object using the\n",
    "# cursor() method\n",
    "cursor = conn.cursor()\n",
    "\n",
    "# Queries to INSERT records.\n",
    "cursor.execute('''INSERT INTO ANIMALS VALUES (1,'BIBER', '7th', 'FALSE',12)''')\n",
    "cursor.execute('''INSERT INTO ANIMALS VALUES (2,'Feldhase', '8th', 'FALSE',34)''')\n",
    "cursor.execute('''INSERT INTO ANIMALS VALUES (3,'Gelbbauchunke', '9th', 'TRUE',55)''')\n",
    "\n",
    "# Display data inserted\n",
    "print(\"Data Inserted in the table: \")\n",
    "data=cursor.execute('''SELECT * FROM ANIMALS''')\n",
    "for row in data:\n",
    "\tprint(row)\n",
    "\n",
    "# Commit your changes in the database\t\n",
    "conn.commit()\n",
    "\n",
    "# Closing the connection\n",
    "conn.close()\n",
    "\n"
   ]
  }
 ],
 "metadata": {
  "colab": {
   "collapsed_sections": [],
   "name": "SQLite_Workshop.ipynb",
   "provenance": []
  },
  "kernelspec": {
   "display_name": "Python 3",
   "name": "python3"
  },
  "language_info": {
   "name": "python"
  }
 },
 "nbformat": 4,
 "nbformat_minor": 0
}
