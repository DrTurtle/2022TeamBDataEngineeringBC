{
 "cells": [
  {
   "cell_type": "markdown",
   "metadata": {},
   "source": [
    "# SQLite Workshop"
   ]
  },
  {
   "cell_type": "markdown",
   "metadata": {},
   "source": [
    "### Load Libraries"
   ]
  },
  {
   "cell_type": "code",
   "execution_count": null,
   "metadata": {
    "id": "h7a6BCkrI3lC"
   },
   "outputs": [],
   "source": [
    "import sqlite3\n",
    "import pandas as pd"
   ]
  },
  {
   "cell_type": "markdown",
   "metadata": {},
   "source": [
    "### Load GitHub repo"
   ]
  },
  {
   "cell_type": "code",
   "execution_count": null,
   "metadata": {
    "colab": {
     "base_uri": "https://localhost:8080/"
    },
    "id": "51Emunq_gVrR",
    "outputId": "6ce92108-944c-4ceb-d14c-78b0882ff0bb"
   },
   "outputs": [],
   "source": [
    "%cd /content/\n",
    "%rm -r ./2022TeamBDataEngineeringBC\n",
    "!git clone https://github.com/Fuenfgeld/2022TeamBDataEngineeringBC.git\n",
    "%cd ./2022TeamBDataEngineeringBC/"
   ]
  },
  {
   "cell_type": "markdown",
   "metadata": {},
   "source": [
    "### Connect to Database"
   ]
  },
  {
   "cell_type": "code",
   "execution_count": null,
   "metadata": {
    "colab": {
     "base_uri": "https://localhost:8080/"
    },
    "id": "5dgmrIH9gnX3",
    "outputId": "db3f541e-65d0-4c05-db06-b3471d4cdaef"
   },
   "outputs": [],
   "source": [
    "conn = sqlite3.connect('sqlite_example.db')\n",
    "cursor = conn.cursor()\n",
    "print(\"Opened database successfully\");"
   ]
  },
  {
   "cell_type": "markdown",
   "metadata": {},
   "source": [
    "### Load CSVs into Dataframe"
   ]
  },
  {
   "cell_type": "code",
   "execution_count": null,
   "metadata": {
    "colab": {
     "base_uri": "https://localhost:8080/"
    },
    "id": "3GQQbW-qiv7U",
    "outputId": "2f93be6a-a95a-416f-aaf8-26d685cae7aa"
   },
   "outputs": [],
   "source": [
    "food = pd.read_csv('tables/Futter.csv', sep=\";\")\n",
    "producer = pd.read_csv('tables/Futterhersteller.csv', sep=\";\")\n",
    "animals = pd.read_csv('tables/Tier.csv', sep=\";\")\n"
   ]
  },
  {
   "cell_type": "markdown",
   "metadata": {},
   "source": [
    "### Create Tables"
   ]
  },
  {
   "cell_type": "code",
   "execution_count": null,
   "metadata": {
    "colab": {
     "base_uri": "https://localhost:8080/"
    },
    "id": "7zHB12i1lcAY",
    "outputId": "2468d03d-4274-4e89-97ce-4598da2f3cc1"
   },
   "outputs": [],
   "source": [
    "cursor.execute('''\n",
    "\t\tCREATE TABLE producer (\n",
    "\t\t\tID int primary key,\n",
    "            Name nvarchar(50),\n",
    "\t\t\tFirmensitz nvarchar(50),\n",
    "\t\t\tProduktionsstaette nvarchar(50)\n",
    "\t\t\t)\n",
    "               ''')\n",
    "\n",
    "\n",
    "cursor.execute('''\n",
    "\t\tCREATE TABLE food (\n",
    "\t\t\tF_ID int primary key,\n",
    "            Art nvarchar(50),\n",
    "\t\t\tKosten_pro_KG float,\n",
    "            Enthaelt_Fleisch boolean,\n",
    "            Hersteller int,\n",
    "\t\t\tforeign key(Hersteller) references producer(ID)\n",
    "\t\t\t)\n",
    "               ''')     "
   ]
  },
  {
   "cell_type": "markdown",
   "metadata": {},
   "source": [
    "### Insert Dataframe in Table"
   ]
  },
  {
   "cell_type": "code",
   "execution_count": null,
   "metadata": {},
   "outputs": [],
   "source": [
    "for row in producer.itertuples():\n",
    "    cursor.execute('''\n",
    "                INSERT INTO producer (ID, Name, Firmensitz, Produktionsstaette)\n",
    "                VALUES (?,?,?,?)\n",
    "                ''',\n",
    "                (row.ID, \n",
    "                row.Name,\n",
    "                row.Firmensitz,\n",
    "                row.Produktionsstaette\n",
    "                ))\n",
    "conn.commit()\n",
    "\n",
    "\n",
    "\n",
    "for row in food.itertuples():\n",
    "    cursor.execute('''\n",
    "                INSERT INTO food (F_ID, Art, Kosten_pro_KG, Enthaelt_Fleisch, Hersteller)\n",
    "                VALUES (?,?,?,?,?)\n",
    "                ''',\n",
    "                (row.F_ID, \n",
    "                row.Art,\n",
    "                row.Kosten_pro_KG,\n",
    "                row.Enthaelt_Fleisch,\n",
    "                row.Hersteller,\n",
    "\n",
    "                ))\n",
    "conn.commit()"
   ]
  },
  {
   "cell_type": "markdown",
   "metadata": {},
   "source": [
    "### Output table contents"
   ]
  },
  {
   "cell_type": "code",
   "execution_count": null,
   "metadata": {},
   "outputs": [],
   "source": [
    "output = cursor.execute('''SELECT * FROM producer''').fetchall()\n",
    "print(output)\n",
    "\n",
    "output2 = cursor.execute('''SELECT * FROM food''').fetchall()\n",
    "print(output2)"
   ]
  },
  {
   "cell_type": "markdown",
   "metadata": {},
   "source": [
    "### Close connection"
   ]
  },
  {
   "cell_type": "code",
   "execution_count": null,
   "metadata": {},
   "outputs": [],
   "source": [
    "conn.close()"
   ]
  }
 ],
 "metadata": {
  "colab": {
   "collapsed_sections": [],
   "name": "SQLite_Workshop.ipynb",
   "provenance": []
  },
  "kernelspec": {
   "display_name": "Python 3",
   "language": "python",
   "name": "python3"
  },
  "language_info": {
   "codemirror_mode": {
    "name": "ipython",
    "version": 3
   },
   "file_extension": ".py",
   "mimetype": "text/x-python",
   "name": "python",
   "nbconvert_exporter": "python",
   "pygments_lexer": "ipython3",
   "version": "3.8.8"
  }
 },
 "nbformat": 4,
 "nbformat_minor": 1
}
