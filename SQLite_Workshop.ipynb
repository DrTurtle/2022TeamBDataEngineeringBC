{
 "cells": [
  {
   "cell_type": "markdown",
   "metadata": {},
   "source": [
    "# SQLite Workshop"
   ]
  },
  {
   "cell_type": "markdown",
   "metadata": {},
   "source": [
    "### Load Libraries"
   ]
  },
  {
   "cell_type": "code",
   "execution_count": null,
   "metadata": {
    "id": "h7a6BCkrI3lC"
   },
   "outputs": [],
   "source": [
    "import sqlite3\n",
    "import pandas as pd"
   ]
  },
  {
   "cell_type": "markdown",
   "metadata": {},
   "source": [
    "### Load GitHub repo"
   ]
  },
  {
   "cell_type": "code",
   "execution_count": null,
   "metadata": {
    "colab": {
     "base_uri": "https://localhost:8080/"
    },
    "id": "51Emunq_gVrR",
    "outputId": "6ce92108-944c-4ceb-d14c-78b0882ff0bb"
   },
   "outputs": [],
   "source": [
    "%cd /content/\n",
    "%rm -r ./2022TeamBDataEngineeringBC\n",
    "!git clone https://github.com/Fuenfgeld/2022TeamBDataEngineeringBC.git\n",
    "%cd ./2022TeamBDataEngineeringBC/"
   ]
  },
  {
   "cell_type": "markdown",
   "metadata": {},
   "source": [
    "### Connect to Database"
   ]
  },
  {
   "cell_type": "code",
   "execution_count": null,
   "metadata": {
    "colab": {
     "base_uri": "https://localhost:8080/"
    },
    "id": "5dgmrIH9gnX3",
    "outputId": "db3f541e-65d0-4c05-db06-b3471d4cdaef"
   },
   "outputs": [],
   "source": [
    "conn = sqlite3.connect('sqlite_example.db')\n",
    "print(\"Opened database successfully\");"
   ]
  },
  {
   "cell_type": "markdown",
   "metadata": {},
   "source": [
    "### Load CSVs into SQLite tables"
   ]
  },
  {
   "cell_type": "code",
   "execution_count": null,
   "metadata": {
    "colab": {
     "base_uri": "https://localhost:8080/"
    },
    "id": "3GQQbW-qiv7U",
    "outputId": "2f93be6a-a95a-416f-aaf8-26d685cae7aa"
   },
   "outputs": [],
   "source": [
    "food = pd.read_csv('tables/Futter.csv', sep=\";\")\n",
    "producer = pd.read_csv('tables/Futterhersteller.csv', sep=\";\")\n",
    "animals = pd.read_csv('tables/Tier.csv', sep=\";\")\n",
    "\n",
    "\n",
    "food.to_sql('food', conn, if_exists=\"replace\", index=False)\n",
    "producer.to_sql('producer', conn, if_exists=\"replace\", index=False)\n",
    "animals.to_sql('animals', conn, if_exists=\"replace\", index=False)"
   ]
  },
  {
   "cell_type": "code",
   "execution_count": null,
   "metadata": {
    "colab": {
     "base_uri": "https://localhost:8080/"
    },
    "id": "7zHB12i1lcAY",
    "outputId": "2468d03d-4274-4e89-97ce-4598da2f3cc1"
   },
   "outputs": [],
   "source": [
    "conn.execute('''SELECT * FROM food''').fetchall()"
   ]
  }
 ],
 "metadata": {
  "colab": {
   "collapsed_sections": [],
   "name": "SQLite_Workshop.ipynb",
   "provenance": []
  },
  "kernelspec": {
   "display_name": "Python 3",
   "language": "python",
   "name": "python3"
  },
  "language_info": {
   "codemirror_mode": {
    "name": "ipython",
    "version": 3
   },
   "file_extension": ".py",
   "mimetype": "text/x-python",
   "name": "python",
   "nbconvert_exporter": "python",
   "pygments_lexer": "ipython3",
   "version": "3.8.8"
  }
 },
 "nbformat": 4,
 "nbformat_minor": 1
}
