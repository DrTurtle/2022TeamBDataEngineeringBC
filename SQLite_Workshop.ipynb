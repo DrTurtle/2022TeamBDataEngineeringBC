{
 "cells": [
  {
   "cell_type": "code",
   "execution_count": 3,
   "metadata": {
    "id": "h7a6BCkrI3lC"
   },
   "outputs": [],
   "source": [
    "# import libraries\n",
    "import sqlite3\n",
    "from sqlite3 import Error"
   ]
  },
  {
   "cell_type": "code",
   "execution_count": 4,
   "metadata": {
    "colab": {
     "base_uri": "https://localhost:8080/"
    },
    "id": "51Emunq_gVrR",
    "outputId": "6ce92108-944c-4ceb-d14c-78b0882ff0bb"
   },
   "outputs": [],
   "source": [
    "#from google.colab import drive\n",
    "#drive.mount('/content/drive')\n",
    "\n"
   ]
  },
  {
   "cell_type": "code",
   "execution_count": 5,
   "metadata": {
    "colab": {
     "base_uri": "https://localhost:8080/"
    },
    "id": "5dgmrIH9gnX3",
    "outputId": "db3f541e-65d0-4c05-db06-b3471d4cdaef"
   },
   "outputs": [
    {
     "name": "stdout",
     "output_type": "stream",
     "text": [
      "unable to open database file\n"
     ]
    }
   ],
   "source": [
    "def create_connection(db_file):\n",
    "    \"\"\" create a database connection to a SQLite database \"\"\"\n",
    "    conn = None\n",
    "    try:\n",
    "        conn = sqlite3.connect(db_file)\n",
    "        print(sqlite3.version)\n",
    "    except Error as e:\n",
    "        print(e)\n",
    "    finally:\n",
    "        if conn:\n",
    "            conn.close()\n",
    "\n",
    "\n",
    "if __name__ == '__main__':\n",
    "    create_connection(r\"/content/drive/MyDrive/SQLite_DB/pythonsqlite.db\")"
   ]
  },
  {
   "cell_type": "code",
   "execution_count": 6,
   "metadata": {
    "colab": {
     "base_uri": "https://localhost:8080/"
    },
    "id": "3GQQbW-qiv7U",
    "outputId": "2f93be6a-a95a-416f-aaf8-26d685cae7aa"
   },
   "outputs": [
    {
     "name": "stdout",
     "output_type": "stream",
     "text": [
      "Table is Ready\n"
     ]
    }
   ],
   "source": [
    "#Connecting to sqlite\n",
    "# connection object\n",
    "connection_obj = sqlite3.connect('pythonsqlite.db')\n",
    "\n",
    "# cursor object\n",
    "cursor_obj = connection_obj.cursor()\n",
    "\n",
    "# Drop the ANIMALS table if already exists.\n",
    "cursor_obj.execute(\"DROP TABLE IF EXISTS ANIMALS\")\n",
    "\n",
    "# Creating table\n",
    "table = \"\"\" CREATE TABLE ANIMALS(\n",
    "          ANIMAL_ID INTEGER PRIMARY KEY,\n",
    "          Name VARCHAR(255) NOT NULL,\n",
    "\t\t\tTyp CHAR(25) NOT NULL,\n",
    "\t\t\tPrädator BOOLEAN NOT NULL,\n",
    "\t\t\tScore INT\n",
    "\t\t); \"\"\"\n",
    "\n",
    "cursor_obj.execute(table)\n",
    "\n",
    "print(\"Table is Ready\")\n",
    "\n",
    "# Close the connection\n",
    "connection_obj.close()\n",
    "\n"
   ]
  },
  {
   "cell_type": "code",
   "execution_count": 7,
   "metadata": {
    "colab": {
     "base_uri": "https://localhost:8080/"
    },
    "id": "7zHB12i1lcAY",
    "outputId": "2468d03d-4274-4e89-97ce-4598da2f3cc1"
   },
   "outputs": [
    {
     "name": "stdout",
     "output_type": "stream",
     "text": [
      "Data Inserted in the table: \n",
      "(1, 'BIBER', '7th', 'FALSE', 12)\n",
      "(2, 'Feldhase', '8th', 'FALSE', 34)\n",
      "(3, 'Gelbbauchunke', '9th', 'TRUE', 55)\n"
     ]
    }
   ],
   "source": [
    "# Import module\n",
    "#import sqlite3\n",
    "\n",
    "# Connecting to sqlite\n",
    "conn = sqlite3.connect('pythonsqlite.db')\n",
    "\n",
    "# Creating a cursor object using the\n",
    "# cursor() method\n",
    "cursor = conn.cursor()\n",
    "\n",
    "# Queries to INSERT records.\n",
    "cursor.execute('''INSERT INTO ANIMALS VALUES (1,'BIBER', '7th', 'FALSE',12)''')\n",
    "cursor.execute('''INSERT INTO ANIMALS VALUES (2,'Feldhase', '8th', 'FALSE',34)''')\n",
    "cursor.execute('''INSERT INTO ANIMALS VALUES (3,'Gelbbauchunke', '9th', 'TRUE',55)''')\n",
    "\n",
    "# Display data inserted\n",
    "print(\"Data Inserted in the table: \")\n",
    "data=cursor.execute('''SELECT * FROM ANIMALS''')\n",
    "for row in data:\n",
    "\tprint(row)\n",
    "\n",
    "# Commit your changes in the database\t\n",
    "conn.commit()\n",
    "\n",
    "# Closing the connection\n",
    "conn.close()\n"
   ]
  },
  {
   "cell_type": "markdown",
   "source": [
    "### CSV Einlesen\n",
    "In diesem Teil wird eine existierende CSV Datei in eine Datenbank Tabelle geladen."
   ],
   "metadata": {
    "collapsed": false,
    "pycharm": {
     "name": "#%% md\n"
    }
   }
  },
  {
   "cell_type": "code",
   "execution_count": 39,
   "outputs": [
    {
     "name": "stdout",
     "output_type": "stream",
     "text": [
      "('13', 'Saeugetier', '61', '34', 'Hundefutter', '12')\n",
      "('15', 'Saeugetier', '25', '4,5', 'Katzenfutter', '9,3')\n",
      "('2', 'Saeugetier', '4', '0,005', 'Getreidemischung', '0,05')\n",
      "('3', 'Saeugetier', '4', '0,15', 'Hamsterfutter', '')\n",
      "('35', 'Saeugetier', '150', '600', 'Pferdefutter', '20')\n",
      "('30', 'Fisch', '2', '2', 'Fischfutter', '')\n",
      "------------------------\n",
      "('Hundefutter', '4,3', 'Ja', '1')\n",
      "('Katzenfutter', '2,7', 'Ja', '2')\n",
      "('Getreidemischung', '10', 'Nein', '3')\n",
      "('Hamsterfutter', '', '', '3')\n",
      "('Pferdefutter', '0,65', 'Nein', '4')\n",
      "('Fischfutter', '2,5', 'Nein', '5')\n",
      "------------------------\n",
      "('1', 'Wau Dosenfutter', 'Deutschland', 'Deutschland')\n",
      "('2', 'Miau Dosenfutter', 'Frankreich', 'Deutschland')\n",
      "('3', \"Jerry's Getreide\", 'China', 'China')\n",
      "('4', 'Hottehue', 'China', 'Taiwan')\n",
      "('5', 'Blubb', 'Atlantis', 'Atlantis')\n"
     ]
    }
   ],
   "source": [
    "import csv\n",
    "\n",
    "conn = sqlite3.connect('pythonsqlite.db')\n",
    "cursor = conn.cursor()\n",
    "\n",
    "cursor.execute(\"DROP TABLE IF EXISTS ANIMALS\")\n",
    "cursor.execute(\"\"\"CREATE TABLE ANIMALS (life_expectancy, class, max_height, max_weight, food, feeding_amount);\"\"\")\n",
    "with open('Tabellen/Tier.csv','r') as tiere: # `with` statement available in 2.5+\n",
    "    dr = csv.DictReader(tiere, delimiter=\";\")\n",
    "    to_db = [(i['Lebenserwartung'],\n",
    "              i['Klasse'],\n",
    "              i['Maximal Hoehe in cm'],\n",
    "              i['Maximal Gewicht in kg'],\n",
    "              i['Futter'],\n",
    "              i['Futtermenge in KG pro Monat']) for i in dr]\n",
    "cursor.executemany(\"INSERT INTO ANIMALS (life_expectancy, class, max_height, max_weight, food, feeding_amount) VALUES (?, ?, ?, ?, ?, ?);\", to_db)\n",
    "\n",
    "\n",
    "cursor.execute(\"DROP TABLE IF EXISTS FOOD\")\n",
    "cursor.execute(\"\"\"CREATE TABLE FOOD (kind, price_per_kg, contains_meat, Manufacturers);\"\"\")\n",
    "with open('Tabellen/Futter.csv','r') as tiere: # `with` statement available in 2.5+\n",
    "    dr = csv.DictReader(tiere, delimiter=\";\")\n",
    "    to_db = [(i['Art'],\n",
    "              i['Kosten pro KG'],\n",
    "              i['Enthaelt Fleisch'],\n",
    "              i['Hersteller']) for i in dr]\n",
    "cursor.executemany(\"INSERT INTO FOOD (kind, price_per_kg, contains_meat, Manufacturers) VALUES (?, ?, ?, ?);\", to_db)\n",
    "\n",
    "\n",
    "cursor.execute(\"DROP TABLE IF EXISTS MANUFACTURERS\")\n",
    "cursor.execute(\"\"\"CREATE TABLE MANUFACTURERS (ID, name, head_office, production_site);\"\"\")\n",
    "with open('Tabellen/Futterhersteller.csv','r') as tiere: # `with` statement available in 2.5+\n",
    "    dr = csv.DictReader(tiere, delimiter=\";\")\n",
    "    to_db = [(i['ID'],\n",
    "              i['Name'],\n",
    "              i['Firmensitz'],\n",
    "              i['Produktionsstaette']) for i in dr]\n",
    "cursor.executemany(\"INSERT INTO MANUFACTURERS (ID, name, head_office, production_site) VALUES (?, ?, ?, ?);\", to_db)\n",
    "\n",
    "\n",
    "\n",
    "\n",
    "data=cursor.execute('''SELECT * FROM ANIMALS''')\n",
    "for row in data:\n",
    "\tprint(row)\n",
    "conn.commit()\n",
    "print(\"------------------------\")\n",
    "data=cursor.execute('''SELECT * FROM FOOD''')\n",
    "for row in data:\n",
    "\tprint(row)\n",
    "conn.commit()\n",
    "print(\"------------------------\")\n",
    "data=cursor.execute('''SELECT * FROM MANUFACTURERS''')\n",
    "for row in data:\n",
    "\tprint(row)\n",
    "conn.commit()\n",
    "\n",
    "conn.close()"
   ],
   "metadata": {
    "collapsed": false,
    "pycharm": {
     "name": "#%%\n"
    }
   }
  },
  {
   "cell_type": "code",
   "execution_count": null,
   "outputs": [],
   "source": [],
   "metadata": {
    "collapsed": false,
    "pycharm": {
     "name": "#%%\n"
    }
   }
  }
 ],
 "metadata": {
  "colab": {
   "collapsed_sections": [],
   "name": "SQLite_Workshop.ipynb",
   "provenance": []
  },
  "kernelspec": {
   "display_name": "Python 3",
   "name": "python3"
  },
  "language_info": {
   "name": "python"
  }
 },
 "nbformat": 4,
 "nbformat_minor": 0
}