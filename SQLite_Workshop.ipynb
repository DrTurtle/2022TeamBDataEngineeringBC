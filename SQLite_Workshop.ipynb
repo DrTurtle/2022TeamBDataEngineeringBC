{
  "nbformat": 4,
  "nbformat_minor": 0,
  "metadata": {
    "colab": {
      "name": "SQLite Workshop.ipynb",
      "provenance": [],
      "include_colab_link": true,
      "collapsed_sections": [],
      "authorship_tag": "ABX9TyN0DY1QNcKn8jc19QekL/hh"
    },
    "kernelspec": {
      "name": "python3",
      "display_name": "Python 3"
    },
    "language_info": {
      "name": "python"
    }
  },
  "cells": [
    {
      "cell_type": "code",
      "execution_count": null,
      "metadata": {
        "id": "FTF6eT5BR5jD"
      },
      "outputs": [],
      "source": [
        ""
      ]
    }
  ]
}
