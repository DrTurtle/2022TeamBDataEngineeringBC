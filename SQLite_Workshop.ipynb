{
  "cells": [
    {
      "cell_type": "markdown",
      "metadata": {
        "id": "lZfbJN0EadMl"
      },
      "source": [
        "# SQLite Workshop"
      ]
    },
    {
      "cell_type": "markdown",
      "metadata": {
        "id": "yjxTEKZSadMp"
      },
      "source": [
        "### Load Libraries"
      ]
    },
    {
      "cell_type": "code",
      "execution_count": 80,
      "metadata": {
        "id": "h7a6BCkrI3lC"
      },
      "outputs": [],
      "source": [
        "import sqlite3\n",
        "import pandas as pd"
      ]
    },
    {
      "cell_type": "markdown",
      "metadata": {
        "id": "-xrj1LUKadMr"
      },
      "source": [
        "### Load GitHub repo"
      ]
    },
    {
      "cell_type": "code",
      "execution_count": 81,
      "metadata": {
        "colab": {
          "base_uri": "https://localhost:8080/"
        },
        "id": "51Emunq_gVrR",
        "outputId": "5f5edc26-47b8-4c11-d862-77d976363547"
      },
      "outputs": [
        {
          "name": "stdout",
          "output_type": "stream",
          "text": [
            "/content\n",
            "Cloning into '2022TeamBDataEngineeringBC'...\n",
            "remote: Enumerating objects: 103, done.\u001b[K\n",
            "remote: Counting objects: 100% (103/103), done.\u001b[K\n",
            "remote: Compressing objects: 100% (77/77), done.\u001b[K\n",
            "remote: Total 103 (delta 55), reused 65 (delta 26), pack-reused 0\u001b[K\n",
            "Receiving objects: 100% (103/103), 74.89 KiB | 3.74 MiB/s, done.\n",
            "Resolving deltas: 100% (55/55), done.\n",
            "/content/2022TeamBDataEngineeringBC\n"
          ]
        }
      ],
      "source": [
        "%cd /content/\n",
        "%rm -r ./2022TeamBDataEngineeringBC\n",
        "!git clone https://github.com/Fuenfgeld/2022TeamBDataEngineeringBC.git\n",
        "%cd ./2022TeamBDataEngineeringBC/"
      ]
    },
    {
      "cell_type": "markdown",
      "metadata": {
        "id": "ludke7zgadMs"
      },
      "source": [
        "### Connect to Database"
      ]
    },
    {
      "cell_type": "code",
      "execution_count": 82,
      "metadata": {
        "colab": {
          "base_uri": "https://localhost:8080/"
        },
        "id": "5dgmrIH9gnX3",
        "outputId": "da027f88-54a1-45f0-e982-fbae5a06a991"
      },
      "outputs": [
        {
          "name": "stdout",
          "output_type": "stream",
          "text": [
            "Opened database successfully\n"
          ]
        }
      ],
      "source": [
        "conn = sqlite3.connect('sqlite_example.db')\n",
        "cursor = conn.cursor()\n",
        "print(\"Opened database successfully\");"
      ]
    },
    {
      "cell_type": "markdown",
      "metadata": {
        "id": "2ySsuxihadMt"
      },
      "source": [
        "### Load CSVs into Dataframe"
      ]
    },
    {
      "cell_type": "code",
      "execution_count": 83,
      "metadata": {
        "id": "3GQQbW-qiv7U"
      },
      "outputs": [],
      "source": [
        "food = pd.read_csv('tables/Futter.csv', sep=\";\")\n",
        "producer = pd.read_csv('tables/Futterhersteller.csv', sep=\";\")\n",
        "animals = pd.read_csv('tables/Tiere.csv', sep=\";\")"
      ]
    },
    {
      "cell_type": "markdown",
      "metadata": {
        "id": "LIUA1ROCadMu"
      },
      "source": [
        "### Create Tables"
      ]
    },
    {
      "cell_type": "code",
      "execution_count": 84,
      "metadata": {
        "colab": {
          "base_uri": "https://localhost:8080/"
        },
        "id": "7zHB12i1lcAY",
        "outputId": "fbfe6160-d7e8-45d8-ee93-af91b1aebb5e"
      },
      "outputs": [
        {
          "data": {
            "text/plain": [
              "<sqlite3.Cursor at 0x7fb0cb48e490>"
            ]
          },
          "execution_count": 84,
          "metadata": {},
          "output_type": "execute_result"
        }
      ],
      "source": [
        "cursor.execute('''\n",
        "\t\tCREATE TABLE IF NOT EXISTS producer (\n",
        "\t\t\tID int primary key,\n",
        "            Name nvarchar(50),\n",
        "\t\t\tFirmensitz nvarchar(50),\n",
        "\t\t\tProduktionsstaette nvarchar(50)\n",
        "\t\t\t)\n",
        "               ''')\n",
        "\n",
        "\n",
        "cursor.execute('''\n",
        "\t\tCREATE TABLE IF NOT EXISTS food (\n",
        "\t\t\tF_ID int primary key,\n",
        "            Art nvarchar(50),\n",
        "\t\t\tKosten_pro_KG float,\n",
        "            Enthaelt_Fleisch boolean,\n",
        "            Hersteller int,\n",
        "\t\t\tforeign key(Hersteller) references producer(ID)\n",
        "\t\t\t)\n",
        "               ''')"
      ]
    },
    {
      "cell_type": "markdown",
      "metadata": {
        "id": "hqexOZTDadMv"
      },
      "source": [
        "### Insert Dataframe in Table"
      ]
    },
    {
      "cell_type": "code",
      "execution_count": 85,
      "metadata": {
        "id": "f-oENjnvadMw"
      },
      "outputs": [],
      "source": [
        "producer.to_sql('producer', conn, if_exists='append', index=False)\n",
        "food.to_sql('food', conn, if_exists='append', index=False)\n",
        "#animals.to_sql('animals', conn, if_exists='append', index=False)"
      ]
    },
    {
      "cell_type": "markdown",
      "metadata": {
        "id": "4QthnM4tadMw"
      },
      "source": [
        "### Output table contents"
      ]
    },
    {
      "cell_type": "code",
      "execution_count": 86,
      "metadata": {
        "colab": {
          "base_uri": "https://localhost:8080/"
        },
        "id": "EaYhlJx3adMx",
        "outputId": "9140483f-237d-4783-98c8-42d99d0c51da"
      },
      "outputs": [
        {
          "name": "stdout",
          "output_type": "stream",
          "text": [
            "   ID              Name   Firmensitz Produktionsstaette\n",
            "0   1   Wau Dosenfutter  Deutschland        Deutschland\n",
            "1   2  Miau Dosenfutter   Frankreich        Deutschland\n",
            "2   3  Jerry's Getreide        China              China\n",
            "3   4          Hottehue        China             Taiwan\n",
            "4   5             Blubb     Atlantis           Atlantis\n",
            "--------------------------------------------------------\n",
            "   F_ID               Art Kosten_pro_KG  Enthaelt_Fleisch  Hersteller\n",
            "0     1       Hundefutter       04. Mrz                 1           1\n",
            "1     2      Katzenfutter       02. Jul                 1           2\n",
            "2     3  Getreidemischung          10.0                 0           3\n",
            "3     4     Hamsterfutter           2.0                 0           3\n",
            "4     5      Pferdefutter          0.65                 0           4\n",
            "5     6       Fischfutter       02. Mai                 0           5\n",
            "6     7   Kaninchenfutter          None                 0           3\n",
            "7     8       Vogelfutter          None                 0           3\n",
            "--------------------------------------------------------\n"
          ]
        }
      ],
      "source": [
        "print(pd.read_sql_query(\"SELECT * FROM producer\", conn))\n",
        "print(\"--------------------------------------------------------\")\n",
        "print(pd.read_sql_query(\"SELECT * FROM food\", conn))\n",
        "print(\"--------------------------------------------------------\")\n",
        "#print(pd.read_sql_query(\"SELECT * FROM animals\", conn))"
      ]
    },
    {
      "cell_type": "markdown",
      "metadata": {
        "id": "jdLVR06CeLfN"
      },
      "source": [
        "### Output Table Info\n"
      ]
    },
    {
      "cell_type": "code",
      "execution_count": 87,
      "metadata": {
        "colab": {
          "base_uri": "https://localhost:8080/"
        },
        "id": "rwVSe1sLeCM8",
        "outputId": "7b6fd612-307d-46e3-a7ee-fdf3f2bf2eac"
      },
      "outputs": [
        {
          "name": "stdout",
          "output_type": "stream",
          "text": [
            "   cid                name          type  notnull dflt_value  pk\n",
            "0    0                  ID           int        0       None   1\n",
            "1    1                Name  nvarchar(50)        0       None   0\n",
            "2    2          Firmensitz  nvarchar(50)        0       None   0\n",
            "3    3  Produktionsstaette  nvarchar(50)        0       None   0\n",
            "--------------------------------------------------------\n",
            "   cid              name          type  notnull dflt_value  pk\n",
            "0    0              F_ID           int        0       None   1\n",
            "1    1               Art  nvarchar(50)        0       None   0\n",
            "2    2     Kosten_pro_KG         float        0       None   0\n",
            "3    3  Enthaelt_Fleisch       boolean        0       None   0\n",
            "4    4        Hersteller           int        0       None   0\n",
            "--------------------------------------------------------\n"
          ]
        }
      ],
      "source": [
        "print(pd.read_sql_query(\"PRAGMA table_info('producer')\", conn))\n",
        "print(\"--------------------------------------------------------\")\n",
        "print(pd.read_sql_query(\"PRAGMA table_info('food')\", conn))\n",
        "print(\"--------------------------------------------------------\")\n",
        "#print(pd.read_sql_query(\"PRAGMA table_info('animals')\", conn))"
      ]
    },
    {
      "cell_type": "markdown",
      "metadata": {
        "id": "Eu-QLJbladMx"
      },
      "source": [
        "### Close connection"
      ]
    },
    {
      "cell_type": "code",
      "execution_count": 88,
      "metadata": {
        "id": "jWWrN75EadMx"
      },
      "outputs": [],
      "source": [
        "conn.close()"
      ]
    }
  ],
  "metadata": {
    "colab": {
      "collapsed_sections": [],
      "name": "SQLite_Workshop.ipynb",
      "provenance": []
    },
    "kernelspec": {
      "display_name": "Python 3",
      "language": "python",
      "name": "python3"
    },
    "language_info": {
      "codemirror_mode": {
        "name": "ipython",
        "version": 3
      },
      "file_extension": ".py",
      "mimetype": "text/x-python",
      "name": "python",
      "nbconvert_exporter": "python",
      "pygments_lexer": "ipython3",
      "version": "3.8.8"
    }
  },
  "nbformat": 4,
  "nbformat_minor": 0
}
